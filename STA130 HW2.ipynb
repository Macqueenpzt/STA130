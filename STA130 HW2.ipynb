{
 "cells": [
  {
   "cell_type": "code",
   "execution_count": 2,
   "id": "c4174a23",
   "metadata": {},
   "outputs": [
    {
     "data": {
      "text/plain": [
       "0.6661"
      ]
     },
     "execution_count": 2,
     "metadata": {},
     "output_type": "execute_result"
    }
   ],
   "source": [
    "#1.\n",
    "import numpy as np\n",
    "all_door_options = (1, 2, 3)  # Tuple of available doors\n",
    "my_door_choice = 1  # The initial choice (door 1, in this case)\n",
    "i_won = 0  # Counter to keep track of how many times the player wins\n",
    "reps = 100000  # Number of repetitions (or trials) for the simulation\n",
    "for i in range(reps):\n",
    "    secret_winning_door = np.random.choice(all_door_options)\n",
    "    all_door_options_list = list(all_door_options)\n",
    "    all_door_options_list.remove(secret_winning_door)\n",
    "    try:\n",
    "        all_door_options_list.remove(my_door_choice)\n",
    "    except:\n",
    "        pass\n",
    "    goat_door_reveal = np.random.choice(all_door_options_list)\n",
    "    all_door_options_list.remove(goat_door_reveal)\n",
    "    if secret_winning_door != my_door_choice:\n",
    "        all_door_options_list.append(secret_winning_door)\n",
    "    my_door_choice = all_door_options_list[0]\n",
    "    if my_door_choice == secret_winning_door:\n",
    "        i_won += 1\n",
    "win_percentage = i_won / reps\n",
    "win_percentage\n"
   ]
  },
  {
   "cell_type": "code",
   "execution_count": 3,
   "id": "672f8132",
   "metadata": {},
   "outputs": [
    {
     "name": "stdout",
     "output_type": "stream",
     "text": [
      "Win percentage when switching: 66.60%\n"
     ]
    }
   ],
   "source": [
    "#2.\n",
    "import numpy as np\n",
    "\n",
    "# Initialize variables\n",
    "all_door_options = [1, 2, 3]\n",
    "reps = 100000\n",
    "wins = 0\n",
    "\n",
    "for i in range(reps):\n",
    "    # Randomly assign the winning door and make an initial choice\n",
    "    winning_door = np.random.choice(all_door_options)\n",
    "    initial_choice = np.random.choice(all_door_options)\n",
    "    \n",
    "    # Monty reveals a goat door (one that is neither the winning door nor the player's choice)\n",
    "    remaining_doors = [door for door in all_door_options if door != initial_choice and door != winning_door]\n",
    "    monty_reveals = np.random.choice(remaining_doors)\n",
    "    \n",
    "    # Player switches to the other remaining door\n",
    "    switch_choice = [door for door in all_door_options if door != initial_choice and door != monty_reveals][0]\n",
    "    \n",
    "    # Check if the player wins by switching\n",
    "    if switch_choice == winning_door:\n",
    "        wins += 1\n",
    "\n",
    "# Calculate the win percentage\n",
    "win_percentage = wins / reps\n",
    "print(f\"Win percentage when switching: {win_percentage:.2%}\")\n"
   ]
  },
  {
   "cell_type": "markdown",
   "id": "f61e72d0",
   "metadata": {},
   "source": [
    "Prefer the streamlined code. First, the list in the streamlined code is easier to read and understand. Also, the streamlined code is shorter and it dosen't use some complicated code such as try/except block."
   ]
  },
  {
   "cell_type": "code",
   "execution_count": 2,
   "id": "8594c181",
   "metadata": {},
   "outputs": [
    {
     "name": "stdout",
     "output_type": "stream",
     "text": [
      "Win percentage when switching: 66.66%\n"
     ]
    }
   ],
   "source": [
    "#3. This streamlined code is offered by ChatGPt, and the comments are written by myself.\n",
    "import numpy as np #alias\n",
    "all_door_options = [1, 2, 3] #create a list all_door_options numbereed 1, 2 and 3\n",
    "reps = 100000 #Number of repetitions\n",
    "wins = 0 #Number of the winning times\n",
    "\n",
    "for i in range(reps): #generate numbers from 0 up to reps - 1\n",
    "    winning_door = np.random.choice(all_door_options) #randomly select an element from the list all _door_options\n",
    "    initial_choice = np.random.choice(all_door_options)#randomly select an element from the list all _door_options\n",
    "    remaining_doors = [door for door in all_door_options if door != initial_choice and door != winning_door]\n",
    "    #remaining_doors refers to a list includes the element in all_door_options that is not equal to either initical_choice or winning_door\n",
    "    monty_reveals = np.random.choice(remaining_doors)#randomly select an element from the list remaining_doors\n",
    "    switch_choice = [door for door in all_door_options if door != initial_choice and door != monty_reveals][0]\n",
    "    #switch_choice refers to the first element in all_door_options that is not equal to either initial_choice or monty_reveals\n",
    "    if switch_choice == winning_door:\n",
    "        wins += 1 #equivalent to wins = wins + 1 if switch choice is same as the winning door\n",
    "win_percentage = wins / reps\n",
    "print(f\"Win percentage when switching: {win_percentage:.2%}\") \n",
    "#the output is the win_percentage multipled by 100 and formatted to 2 decimal places\n",
    "\n"
   ]
  },
  {
   "cell_type": "code",
   "execution_count": 4,
   "id": "f2ae86b5",
   "metadata": {},
   "outputs": [],
   "source": [
    "#4.\n",
    "# Initialize two dictionaries:\n",
    "# word_used keeps track of how many times each word appears in the input list.\n",
    "# next_word maps each word to another dictionary, which keeps track of the frequency of the words that follow it.\n",
    "word_used = dict()  # Could use defaultdict(int) for automatic initialization of counts.\n",
    "next_word = dict()  # Could use defaultdict(lambda: defaultdict(int)) for simplifying nested dictionary initialization.\n",
    "\n",
    "# Iterate through the words in the list, but stop at the second-to-last word (words[:-1]).\n",
    "# This is because for each word, we will also reference the word that follows it, i.e., words[i + 1].\n",
    "for i, word in enumerate(words[:-1]):\n",
    "\n",
    "    # Check if the current word is already in the word_used dictionary.\n",
    "    if word in word_used:\n",
    "        # If it is, increment the count (frequency) of the word.\n",
    "        word_used[word] += 1\n",
    "    else:\n",
    "        # If the word is not in the dictionary, add it with an initial count of 1.\n",
    "        word_used[word] = 1\n",
    "        # Also, initialize an empty dictionary in next_word for tracking subsequent words.\n",
    "        next_word[word] = {}\n",
    "\n",
    "    # Now, look at the next word in the sequence (words[i + 1]).\n",
    "    # Check if the next word already appears in the dictionary for the current word.\n",
    "    if words[i + 1] in next_word[word]:\n",
    "        # If the next word is already in the dictionary, increment its count.\n",
    "        next_word[word][words[i + 1]] += 1\n",
    "    else:\n",
    "        # If it's not, add the next word with an initial count of 1.\n",
    "        next_word[word][words[i + 1]] = 1"
   ]
  },
  {
   "cell_type": "code",
   "execution_count": 5,
   "id": "1c0d074f",
   "metadata": {},
   "outputs": [],
   "source": [
    "#5.(1)(2). Here is the explanation from ChatGPT\n",
    "from collections import defaultdict\n",
    "\n",
    "# Initialize word usage count as a defaultdict of int\n",
    "# This will store how often each bigram (pair of consecutive words) appears\n",
    "word_used2 = defaultdict(int)\n",
    "\n",
    "# Initialize next word structure as a defaultdict of defaultdict(int)\n",
    "# This will store for each bigram, a dictionary that keeps track of the word\n",
    "# that follows the bigram and how many times it appears after it\n",
    "next_word2 = defaultdict(lambda: defaultdict(int))\n",
    "\n",
    "# Iterate through the list of words, stopping two words before the last one\n",
    "# This allows us to access the current word, the next word, and the word after that\n",
    "for i, word in enumerate(words[:-2]):\n",
    "    \n",
    "    # Create a bigram (two consecutive words) using the current word and the next word\n",
    "    bigram = word + ' ' + words[i+1]\n",
    "    \n",
    "    # Increment the count for how many times this specific bigram (pair of words) appears\n",
    "    word_used2[bigram] += 1\n",
    "    \n",
    "    # Increment the count for how many times the word that follows this bigram (words[i+2]) appears\n",
    "    # This creates a dictionary for each bigram where the keys are the next words\n",
    "    # and the values are the counts of how often these next words follow the bigram\n",
    "    next_word2[bigram][words[i+2]] += 1"
   ]
  },
  {
   "cell_type": "markdown",
   "id": "b1036e2c",
   "metadata": {},
   "source": [
    "5.(3)ChatGPT are able to understand the extension code. The code constructs character-specific bigram Markov chains from a dataset where:\n",
    "\n",
    "Character identification: It processes the character column, converting it to uppercase and replacing spaces with periods, then counts the occurrences of each character.Bigram tracking:For each character, it records how often pairs of consecutive words (bigrams) appear using word_used2C.It also tracks the next word that follows each bigram using next_word2C.\n",
    "This allows for building Markov chains where the transitions between words are based on bigrams, making the model more sophisticated in capturing context. Each character's Markov chain is constructed separately.\n"
   ]
  },
  {
   "cell_type": "markdown",
   "id": "7a40937f",
   "metadata": {},
   "source": [
    "6.(1)In summary, Chatbot can help me understand the questions above quickly, accurately and efficiently. First, in the Monte Hall problem, the code uses many methods and attributes related to numpy that we learnt from the lecture and tutorial, such as tuple(), list(), for i in range(n), np.random.choice(list(), size, replace, p) and so on. Sometimes these code might be a little bit hard to understand and apply, for example, we need to learn how to set possibility and determine whether or not we need repetition in the code np.random.choice(), and Chatbot are able to help me learn it by explaning the definition of the code and then providing examples, it can give me the answer quickly and efficiently. \n",
    "\n",
    "In the Markovian code, it can also helps a lot. The conception 'Markov' is difficult at the beginning, Chatbot will expalin the definition of it, namely the future state of the system depends only on its current state. As for the Markovian code, it writes comments for almost every part of the code. For example, it explains the process of building a dictionary, and then explains the code enmurate(), namely producing tuples containing index and the corresponding item. "
   ]
  },
  {
   "cell_type": "markdown",
   "id": "b595ad4f",
   "metadata": {},
   "source": [
    "6.(2)I think using Chatbot is not frustrating or unhelpful. However, sometimes it might be a little bit confusing since it may use complicated code to answer a simple question, as a beginner, sometimes I cannot fully understand the meaning of each line. But it is a great opportunity to learn how to select appropriate code when working on a question. "
   ]
  },
  {
   "cell_type": "markdown",
   "id": "56bf87ca",
   "metadata": {},
   "source": [
    "6.(3)Chatbot serves as a platform to help me understand code better, I think there are 4 steps in total. \n",
    "\n",
    "First, Chatbot gives the definition of the code including some basic information, such as the purpose of using this code and the types of input and output.\n",
    "\n",
    "Second, Chatbot explains the correct format of writing this code. For example, when we learn pandas, attributes doesn't have parameter() and methods must add parameter(), it can also summarize the tips of writing the code.\n",
    "\n",
    "The next step is providing typical examples to help me understand better. In this week lecture we learnt stats.multinomial().rsv(size), this code is complicated. Chatbot will use simple example to show how the code works, the example is rolling a 6-sided die, it writes this code containing some important information."
   ]
  },
  {
   "cell_type": "code",
   "execution_count": 2,
   "id": "54219407",
   "metadata": {},
   "outputs": [
    {
     "name": "stdout",
     "output_type": "stream",
     "text": [
      "[[3 2 3 0 2 0]\n",
      " [3 1 3 1 2 0]\n",
      " [3 2 2 1 1 1]\n",
      " [0 0 1 4 3 2]\n",
      " [2 1 2 3 1 1]]\n"
     ]
    }
   ],
   "source": [
    "from scipy import stats\n",
    "\n",
    "# Define the parameters\n",
    "p = [1/6] * 6  # probabilities for each of the 6 outcomes (assuming a fair die)\n",
    "n = 10  # number of trials\n",
    "\n",
    "# Generate random samples\n",
    "samples = stats.multinomial(n=n, p=p).rvs(size=5)\n",
    "print(samples)"
   ]
  },
  {
   "cell_type": "markdown",
   "id": "9095e384",
   "metadata": {},
   "source": [
    "It seems that Chatbot can use simple examples to expalin a complex code. Additionally, the examples often contains other important code, we can review the previous code through the examples offered by Chatbot.\n",
    "\n",
    "The last step is point out possible errors that may occur in my writing code and methods for fixing errors. In the last week homework question8, Chatbot first help explain the reasons why the error occurs and then correct the errors."
   ]
  },
  {
   "cell_type": "markdown",
   "id": "4045fbb4",
   "metadata": {},
   "source": [
    "7.Learning code:As mentioned in question7, Chatbot helps learn code in 4 steps: giving definition, explaining correct format, using examples and correcting errors. AI tools provide quick access to a vast amount of information and code examples, which help me review and absorb the knowledge taught in lecture and tutorial.\n",
    "\n",
    "Statistics:Take multinomial distribution as example, AI tools can teach me the formula of calculating the possibility of each experiments. And also conditional possibility we learnt this lecture, Markov:  Pr(𝑊𝑖+1=𝑤𝑖+1|𝑊𝑖=𝑤𝑖)\n",
    "Bigram:  Pr(𝑊𝑖+2=𝑤𝑖+2|𝑊𝑖+1=𝑤𝑖+1,𝑊𝑖=𝑤𝑖)\n",
    "Trigram:  Pr(𝑊𝑖+3=𝑤𝑖+3|𝑊𝑖+2=𝑤𝑖+2,𝑊𝑖+1=𝑤𝑖+1,𝑊𝑖=𝑤𝑖)\n",
    "Context:  Pr(𝑊𝑖+3=𝑤𝑖+3|𝑊𝑖+1=𝑤𝑖+1,𝑊𝑖=𝑤𝑖,𝐶=𝑐), Chatbot can combine conditionl possibility and Markov to help me understand these 4 formulas.\n",
    "\n",
    "Data science:From the first week, Chatbot guides me to have a recgonization of data science, we begin from the conception of \"Series\" and \"DataFrame\" in pandas and I learn how to create a DaraFrame by myself. Addtionally, I also learn the methods for extracting data from DataFrame and evaluating important statistcs of a DataFrame by using the methods df.descrfibe(), df.shape and df.types.\n",
    " "
   ]
  },
  {
   "cell_type": "markdown",
   "id": "06f103cc",
   "metadata": {},
   "source": [
    "8.(1)In the modern world, especially within the context of the data science industry, learning and adaptability, communication, coding, and statistics and data analysis are crucial skills that offer significant career opportunities. Here’s why each is highly relevant:\n",
    "\n",
    "1. Learning and Adaptability\n",
    "Rapid Evolution of Technology: The pace at which technology and tools evolve is staggering. New programming languages, frameworks, and data analysis techniques emerge regularly. Being adaptable and constantly learning ensures that professionals remain competitive in the field.\n",
    "Innovation and Problem-Solving: Adaptable individuals can pivot to new approaches when tackling complex problems. In data science, where solutions often involve cutting-edge techniques, adaptability drives innovation.\n",
    "Career Agility: Adaptability enables workers to transition between different roles or industries, making them more versatile and valuable in dynamic fields like data science, AI, or machine learning.\n",
    "2. Communication\n",
    "Bridging the Gap Between Technical and Non-Technical Teams: Data scientists often need to translate complex models and statistical findings into actionable insights for non-technical stakeholders like managers, clients, or other departments. Strong communication ensures that these insights are effectively conveyed.\n",
    "Data Storytelling: Beyond just presenting numbers, data scientists must craft narratives around data, making findings engaging and understandable. This skill is vital for driving data-driven decision-making within an organization.\n",
    "Collaboration: Working in teams with diverse skill sets (engineers, designers, business analysts) requires clear communication to ensure alignment on goals and problem-solving strategies.\n",
    "3. Coding\n",
    "Automation and Efficiency: Coding allows data scientists to automate repetitive tasks, such as data cleaning or model training, which enhances productivity and scalability in handling large datasets.\n",
    "Custom Solutions: Standard software may not always fit the specific needs of a project. Knowledge of programming languages (Python, R, SQL, etc.) allows professionals to build custom algorithms, data pipelines, and tools.\n",
    "Job Requirement: Coding is a fundamental skill for most data science roles. Whether developing machine learning models or manipulating data, coding expertise is expected and often a key differentiator in hiring.\n",
    "4. Statistics and Data Analysis\n",
    "Core of Data Science: Data science relies heavily on statistical methods to derive insights, make predictions, and assess the reliability of data. A strong foundation in statistics is essential for making informed decisions and avoiding incorrect interpretations.\n",
    "Data-Driven Decision Making: With businesses increasingly relying on data to inform strategy, individuals who can analyze and interpret data effectively are in high demand. This skill is crucial for making sense of complex datasets and delivering actionable business insights.\n",
    "Machine Learning and AI: Many machine learning algorithms are built on statistical principles. Understanding the math and logic behind these algorithms is crucial for tuning models and ensuring they perform optimally.\n",
    "In the Context of Career Opportunities:\n",
    "Data Science Roles: These skills are the building blocks for roles such as data scientists, machine learning engineers, and AI researchers. Proficiency in coding, statistics, and data analysis is non-negotiable, while adaptability and communication elevate professionals to leadership and strategic roles.\n",
    "Cross-Industry Applications: Data science skills are in demand across various industries—finance, healthcare, retail, marketing, and tech. Those who combine technical expertise with adaptability and communication are positioned to thrive in diverse sectors.\n",
    "Emerging Technologies: Fields like artificial intelligence, big data, and IoT (Internet of Things) heavily rely on data science. The ability to quickly learn new technologies and communicate their potential makes individuals highly competitive in these innovative sectors.\n",
    "Together, these skills form a comprehensive toolkit that ensures professionals can thrive in the fast-paced, data-driven modern world while maintaining career flexibility and growth potential."
   ]
  },
  {
   "cell_type": "markdown",
   "id": "6169cf35",
   "metadata": {},
   "source": [
    "8.(2)It's highly unlikely to succeed as a statistician or data scientist without coding or data analysis skills. Both fields are inherently tied to working with data, which requires coding to manipulate, analyze, and model datasets. Ultimately, both fields are grounded in the practical application of techniques on data, which necessitates some level of coding and data analysis. Without these skills, it would be difficult to engage in meaningful, hands-on work in either profession.\n",
    "\n",
    "My dream career is the ocupation that is related to mathematics, statistics, probability and data analysis. According to ChatGPT, these skills are essential:\n",
    "\n",
    "1. Mathematical Skills\n",
    "Linear Algebra and Calculus: Essential for understanding many machine learning algorithms and mathematical models.\n",
    "Probability Theory: Crucial for risk analysis, predictive modeling, and understanding randomness in data.\n",
    "Optimization: Understanding optimization techniques will help in developing models that improve efficiency and accuracy.\n",
    "2. Statistical Skills\n",
    "Statistical Inference: Being able to make predictions or decisions based on data samples.\n",
    "Hypothesis Testing: Helps in validating models and making data-driven decisions.\n",
    "Bayesian Statistics: Useful for probabilistic models and decision-making in uncertain environments.\n",
    "Regression Analysis: Essential for modeling relationships between variables and forecasting.\n",
    "3. Programming and Coding\n",
    "Python or R: These are the go-to programming languages for data analysis and statistical modeling.\n",
    "SQL: For querying and managing databases, as data scientists often work with large datasets.\n",
    "Data Visualization Tools: Tools like Tableau, Matplotlib, or Power BI help in interpreting and presenting data findings.\n",
    "4. Data Analysis\n",
    "Data Cleaning and Wrangling: Ensuring data quality before analysis is essential to get meaningful insights.\n",
    "Exploratory Data Analysis (EDA): Discovering patterns, anomalies, and trends in data.\n",
    "Feature Engineering: Crafting meaningful variables from raw data that improve model performance.\n",
    "5. Machine Learning and AI\n",
    "Supervised and Unsupervised Learning: Techniques for prediction, classification, clustering, and more.\n",
    "Time Series Analysis: Useful for forecasting and analyzing temporal data.\n",
    "Deep Learning (optional): If interested in complex neural networks or AI-driven tasks.\n",
    "6. Analytical Thinking and Problem-Solving\n",
    "Strong problem-solving skills are essential for breaking down complex data problems and finding solutions.\n",
    "Ability to think logically and apply mathematical and statistical reasoning to real-world problems.\n",
    "7. Data Science Frameworks and Libraries\n",
    "Scikit-learn, Pandas, and NumPy in Python: Common libraries for data manipulation, statistical modeling, and machine learning.\n",
    "TensorFlow or PyTorch (optional): For deep learning if your career interest includes AI or complex neural networks.\n",
    "8. Communication and Presentation Skills\n",
    "Translating mathematical and statistical insights into actionable business decisions requires strong communication and data storytelling skills.\n",
    "Ability to clearly present findings to stakeholders who may not have technical expertise.\n",
    "9. Domain Knowledge\n",
    "Understanding the specific industry you're working in (finance, healthcare, etc.) can help in applying mathematical and statistical models more effectively to solve relevant problems."
   ]
  },
  {
   "cell_type": "markdown",
   "id": "6c443eba",
   "metadata": {},
   "source": [
    "8.(3)For a career focused on mathematics, statistics, probability, and data analysis, essential skills include strong foundations in mathematics (e.g., linear algebra, calculus, and optimization) and statistics (e.g., statistical inference, regression analysis, and hypothesis testing). Proficiency in coding with languages like Python, R, and SQL, along with experience in data analysis tasks like data cleaning, exploratory analysis, and feature engineering, are crucial. Knowledge of machine learning techniques, such as supervised and unsupervised learning, and familiarity with frameworks like scikit-learn and Pandas is also beneficial. Effective communication skills for presenting complex data to non-technical stakeholders, coupled with strong analytical thinking, will enhance problem-solving abilities. Domain knowledge specific to industries like finance or healthcare can further support applying data science in real-world contexts.\n",
    "\n",
    "This summary provides the skills necessary for a career aligned with your interests, including roles such as a data scientist, statistician, or quantitative analyst."
   ]
  },
  {
   "cell_type": "markdown",
   "id": "c652e1e2",
   "metadata": {},
   "source": [
    "8.(4)As a freshman in uoft, I am trying to identify what career and life that I am looking forward to, and I need to prepare for it. As the ChatGPT mentioned, the skills above are crucial and I have already choose some of these courses, such as statistics, computer science that focuses on python, linear algebra and calculus with proofs. I wish that I can obtain more practical and stable skills through these courses.\n",
    "\n",
    "Apart from cultivating professional knowledge skills, I think the most important one is the ability to determine which path I wanna choose. The other day, I watched some interviews with mathematicians and I gained a lot from the videos, they introduce many aspects and applications of mathematics that I have never known them before. The interviews literally open my horizon, for example, mathematical model can be applied to biology field to study the migration of Africa animals, that sounds so attractive! In summary, I ought to take courses, do group work and cultivate self learning frame to cultivate the skills of mathematics and statistics, more importantly, I need to know more about every aspects of the subject and career that I am looking forward, ensuring that I can choose a suitable path in the future."
   ]
  },
  {
   "cell_type": "markdown",
   "id": "54600403",
   "metadata": {},
   "source": [
    "8.(5)Helpfulness is that ChatGPT can provide me with definition and examples to help me understand the code. Limitation is that sometimes the code is complicated so that a beginner cannot understand fully. If the code offered by ChatGPT is too high-level, I should understand the code taught in lecture and tutorial first, and then ask ChatGPT to use these code and try to understand it. And I also need to adjust my needs based on my current level and performance, and ask ChatGPT to adjust the answer appropriately."
   ]
  },
  {
   "cell_type": "code",
   "execution_count": null,
   "id": "af262a7c",
   "metadata": {},
   "outputs": [],
   "source": []
  }
 ],
 "metadata": {
  "kernelspec": {
   "display_name": "Python 3 (ipykernel)",
   "language": "python",
   "name": "python3"
  },
  "language_info": {
   "codemirror_mode": {
    "name": "ipython",
    "version": 3
   },
   "file_extension": ".py",
   "mimetype": "text/x-python",
   "name": "python",
   "nbconvert_exporter": "python",
   "pygments_lexer": "ipython3",
   "version": "3.11.6"
  }
 },
 "nbformat": 4,
 "nbformat_minor": 5
}
